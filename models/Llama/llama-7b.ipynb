{
 "cells": [
  {
   "cell_type": "code",
   "execution_count": null,
   "metadata": {},
   "outputs": [],
   "source": [
    "import sys\n",
    "sys.path.append(\"../../\")\n",
    "from llm_api import ClientLLM\n",
    "from utils import get_tui_columns, load_samples, load_promts\n",
    "import time"
   ]
  },
  {
   "cell_type": "code",
   "execution_count": null,
   "metadata": {},
   "outputs": [],
   "source": [
    "api_key = \"FALSE\" \n",
    "api_base = \"http://localhost:8888/v1\"\n",
    "model = \"meta-llama/Llama-2-7b-chat-hf\" \n",
    "temperature = 0.5\n",
    "\n",
    "\n",
    "chat_instance = ClientLLM(model, api_key, api_base, temperature)"
   ]
  },
  {
   "cell_type": "code",
   "execution_count": null,
   "metadata": {},
   "outputs": [],
   "source": [
    "csv_file_path = '../../promts/tuis_desc.csv'\n",
    "tuis = get_tui_columns(csv_file_path, columns='name')\n",
    "print(tuis)"
   ]
  },
  {
   "cell_type": "code",
   "execution_count": null,
   "metadata": {},
   "outputs": [],
   "source": [
    "disease = \"Mycosis\"\n",
    "text = \"Most common mild mycoses often present with a rash. Infections within the skin or under the skin may present with a lump and skin changes. Less common deeper fungal infections may present with pneumonia like symptoms or meningitis.\""
   ]
  },
  {
   "cell_type": "code",
   "execution_count": null,
   "metadata": {},
   "outputs": [],
   "source": [
    "gold = \"rash;lump; skin changes; pneumonia;meningitis.\""
   ]
  },
  {
   "cell_type": "code",
   "execution_count": null,
   "metadata": {},
   "outputs": [],
   "source": [
    "prompts = load_promts(\"../../promts/prompts.xlsx\")\n",
    "prompts"
   ]
  },
  {
   "cell_type": "code",
   "execution_count": null,
   "metadata": {},
   "outputs": [],
   "source": [
    "prompt = prompts[3]\n",
    "prompt"
   ]
  },
  {
   "cell_type": "code",
   "execution_count": null,
   "metadata": {},
   "outputs": [],
   "source": [
    "prompt_content = prompt.msg.format(disease=disease, tuis=tuis, text=text)\n",
    "template = [{\"role\": \"user\", \"content\": prompt_content}]\n",
    "template"
   ]
  },
  {
   "cell_type": "code",
   "execution_count": null,
   "metadata": {},
   "outputs": [],
   "source": [
    "response = chat_instance.ask_complete(template, 100)"
   ]
  },
  {
   "cell_type": "code",
   "execution_count": null,
   "metadata": {},
   "outputs": [],
   "source": [
    "response.usage.prompt_tokens"
   ]
  },
  {
   "cell_type": "code",
   "execution_count": null,
   "metadata": {},
   "outputs": [],
   "source": [
    "response.choices[0].message.content"
   ]
  },
  {
   "cell_type": "markdown",
   "metadata": {},
   "source": [
    "## Model"
   ]
  },
  {
   "cell_type": "code",
   "execution_count": null,
   "metadata": {},
   "outputs": [],
   "source": [
    "from tqdm import tqdm\n",
    "import json\n",
    "from time import sleep"
   ]
  },
  {
   "cell_type": "code",
   "execution_count": null,
   "metadata": {},
   "outputs": [],
   "source": [
    "PATH = \"../../standard/golds_v4.json\""
   ]
  },
  {
   "cell_type": "code",
   "execution_count": null,
   "metadata": {},
   "outputs": [],
   "source": [
    "golds = []\n",
    "\n",
    "with open(PATH) as f:\n",
    "    golds = json.load(f)"
   ]
  },
  {
   "cell_type": "markdown",
   "metadata": {},
   "source": [
    "# No External Knowledge"
   ]
  },
  {
   "cell_type": "markdown",
   "metadata": {},
   "source": [
    "## Zero-Shot"
   ]
  },
  {
   "cell_type": "code",
   "execution_count": null,
   "metadata": {},
   "outputs": [],
   "source": [
    "tokens = {}"
   ]
  },
  {
   "cell_type": "code",
   "execution_count": null,
   "metadata": {},
   "outputs": [],
   "source": [
    "results_zero = []\n",
    "tokens[\"zero\"] = {\"base\": prompt.n_tokens ,\"total\" : 0}\n",
    "\n",
    "for ds, val in tqdm(golds.items()):\n",
    "    prompt_content = prompt.msg.format(disease=ds, tuis=tuis, text=val[\"text\"])\n",
    "    promt = [{\"role\": \"user\", \"content\": prompt_content}]\n",
    "    response = chat_instance.ask_complete(promt, 100)\n",
    "    answ = response.choices[0].message.content\n",
    "    sleep(2)\n",
    "    results_zero.append({\"y_pred\":answ, \"y_true\":val[\"sings\"]})\n",
    "    tokens[\"zero\"][\"total\"] += response.usage.total_tokens"
   ]
  },
  {
   "cell_type": "code",
   "execution_count": null,
   "metadata": {},
   "outputs": [],
   "source": [
    "results_zero[-1]"
   ]
  },
  {
   "cell_type": "code",
   "execution_count": null,
   "metadata": {},
   "outputs": [],
   "source": [
    "with open(\"../../results/llama7b_zero_results.json\", \"w\") as f:\n",
    "    json.dump(results_zero, f, indent=2)"
   ]
  },
  {
   "cell_type": "code",
   "execution_count": null,
   "metadata": {},
   "outputs": [],
   "source": [
    "tokens"
   ]
  },
  {
   "cell_type": "markdown",
   "metadata": {},
   "source": [
    "# Few-Shot"
   ]
  },
  {
   "cell_type": "code",
   "execution_count": null,
   "metadata": {},
   "outputs": [],
   "source": [
    "samples = '../../promts/samples.csv'\n",
    "texts, symptoms_lists = load_samples(samples)"
   ]
  },
  {
   "cell_type": "markdown",
   "metadata": {},
   "source": [
    "## 1-shot"
   ]
  },
  {
   "cell_type": "code",
   "execution_count": null,
   "metadata": {},
   "outputs": [],
   "source": [
    "results_1_shot = []\n",
    "tokens[\"1-shot\"] = {\"base\": prompt.n_tokens ,\"total\" : 0}\n",
    "\n",
    "for ds, val in tqdm(golds.items()):\n",
    "    prompt_content = prompt.msg.format(disease=ds, tuis=tuis, text=val[\"text\"])\n",
    "    promt =  [{\"role\": \"user\", \"content\": texts[0]},{\"role\": \"assistant\", \"content\": symptoms_lists[0]},{\"role\": \"user\", \"content\": prompt_content}]\n",
    "    response = chat_instance.ask_complete(promt, 100)\n",
    "    time.sleep(2)\n",
    "    answ = response.choices[0].message.content\n",
    "    results_1_shot.append({\"y_pred\":answ, \"y_true\":val[\"sings\"]})\n",
    "    tokens[\"1-shot\"][\"total\"] += response.usage.total_tokens"
   ]
  },
  {
   "cell_type": "code",
   "execution_count": null,
   "metadata": {},
   "outputs": [],
   "source": [
    "results_1_shot[:2]"
   ]
  },
  {
   "cell_type": "code",
   "execution_count": null,
   "metadata": {},
   "outputs": [],
   "source": [
    "with open(\"../../results/llama7b_1_shot_results.json\", \"w\") as f:\n",
    "    json.dump(results_1_shot, f, indent=2)"
   ]
  },
  {
   "cell_type": "code",
   "execution_count": null,
   "metadata": {},
   "outputs": [],
   "source": [
    "tokens"
   ]
  },
  {
   "cell_type": "markdown",
   "metadata": {},
   "source": [
    "## 3-shot"
   ]
  },
  {
   "cell_type": "code",
   "execution_count": null,
   "metadata": {},
   "outputs": [],
   "source": [
    "results_3_shot = []\n",
    "tokens[\"3-shot\"] = {\"base\": prompt.n_tokens ,\"total\" : 0}\n",
    "\n",
    "for ds, val in tqdm(golds.items()):\n",
    "    prompt_content = prompt.msg.format(disease=ds, tuis=tuis, text=val[\"text\"])\n",
    "    promt =  [{\"role\": \"user\", \"content\": texts[0]},{\"role\": \"assistant\", \"content\": symptoms_lists[0]}, {\"role\": \"user\", \"content\": texts[1]},{\"role\": \"assistant\", \"content\": symptoms_lists[1]}, {\"role\": \"user\", \"content\": texts[2]},{\"role\": \"assistant\", \"content\": symptoms_lists[2]},{\"role\": \"user\", \"content\": prompt_content}]\n",
    "    response = chat_instance.ask_complete(promt, 100)\n",
    "    time.sleep(2)\n",
    "    answ = response.choices[0].message.content\n",
    "    results_3_shot.append({\"y_pred\":answ, \"y_true\":val[\"sings\"]})\n",
    "    tokens[\"3-shot\"][\"total\"] += response.usage.total_tokens"
   ]
  },
  {
   "cell_type": "code",
   "execution_count": null,
   "metadata": {},
   "outputs": [],
   "source": [
    "results_3_shot[:2]"
   ]
  },
  {
   "cell_type": "code",
   "execution_count": null,
   "metadata": {},
   "outputs": [],
   "source": [
    "with open(\"../../results/llama7b_3_shot_results.json\", \"w\") as f:\n",
    "    json.dump(results_3_shot, f, indent=2)"
   ]
  },
  {
   "cell_type": "markdown",
   "metadata": {},
   "source": [
    "## 5-shot"
   ]
  },
  {
   "cell_type": "code",
   "execution_count": null,
   "metadata": {},
   "outputs": [],
   "source": [
    "results_5_shot = []\n",
    "tokens[\"5-shot\"] = {\"base\": prompt.n_tokens ,\"total\" : 0}\n",
    "\n",
    "for ds, val in tqdm(golds.items()):\n",
    "    prompt_content = prompt.msg.format(disease=ds, tuis=tuis, text=val[\"text\"])\n",
    "    promt =  [{\"role\": \"user\", \"content\": texts[0]},{\"role\": \"assistant\", \"content\": symptoms_lists[0]}, {\"role\": \"user\", \"content\": texts[1]},{\"role\": \"assistant\", \"content\": symptoms_lists[1]}, {\"role\": \"user\", \"content\": texts[2]},{\"role\": \"assistant\", \"content\": symptoms_lists[2]},{\"role\": \"user\", \"content\": texts[3]},{\"role\": \"assistant\", \"content\": symptoms_lists[3]},{\"role\": \"user\", \"content\": texts[4]},{\"role\": \"assistant\", \"content\": symptoms_lists[4]},{\"role\": \"user\", \"content\": prompt_content}]\n",
    "    response = chat_instance.ask_complete(promt, 100)\n",
    "    time.sleep(2)\n",
    "    answ = response.choices[0].message.content\n",
    "    results_5_shot.append({\"y_pred\":answ, \"y_true\":val[\"sings\"]})\n",
    "    tokens[\"5-shot\"][\"total\"] += response.usage.total_tokens"
   ]
  },
  {
   "cell_type": "code",
   "execution_count": null,
   "metadata": {},
   "outputs": [],
   "source": [
    "results_5_shot[:2]"
   ]
  },
  {
   "cell_type": "code",
   "execution_count": null,
   "metadata": {},
   "outputs": [],
   "source": [
    "with open(\"../../results/llama7b_5_shot_results.json\", \"w\") as f:\n",
    "    json.dump(results_5_shot, f, indent=2)"
   ]
  },
  {
   "cell_type": "markdown",
   "metadata": {},
   "source": [
    "## 10-shot"
   ]
  },
  {
   "cell_type": "code",
   "execution_count": null,
   "metadata": {},
   "outputs": [],
   "source": [
    "results_10_shot = []\n",
    "tokens[\"10-shot\"] = {\"base\": prompt.n_tokens ,\"total\" : 0}\n",
    "\n",
    "for ds, val in tqdm(golds.items()):\n",
    "    prompt_content = prompt.msg.format(disease=ds, tuis=tuis, text=val[\"text\"])\n",
    "    promt =  [{\"role\": \"user\", \"content\": texts[0]},{\"role\": \"assistant\", \"content\": symptoms_lists[0]}, {\"role\": \"user\", \"content\": texts[1]},{\"role\": \"assistant\", \"content\": symptoms_lists[1]}, {\"role\": \"user\", \"content\": texts[2]},{\"role\": \"assistant\", \"content\": symptoms_lists[2]},{\"role\": \"user\", \"content\": texts[3]},{\"role\": \"assistant\", \"content\": symptoms_lists[3]},{\"role\": \"user\", \"content\": texts[4]},{\"role\": \"assistant\", \"content\": symptoms_lists[4]},{\"role\": \"user\", \"content\": texts[5]},{\"role\": \"assistant\", \"content\": symptoms_lists[5]},{\"role\": \"user\", \"content\": texts[6]},{\"role\": \"assistant\", \"content\": symptoms_lists[6]},{\"role\": \"user\", \"content\": texts[7]},{\"role\": \"assistant\", \"content\": symptoms_lists[7]},{\"role\": \"user\", \"content\": texts[8]},{\"role\": \"assistant\", \"content\": symptoms_lists[8]},{\"role\": \"user\", \"content\": texts[9]},{\"role\": \"assistant\", \"content\": symptoms_lists[9]},{\"role\": \"user\", \"content\": prompt_content}]\n",
    "    response = chat_instance.ask_complete(promt, 100)\n",
    "    time.sleep(2)\n",
    "    answ = response.choices[0].message.content\n",
    "    results_10_shot.append({\"y_pred\":answ, \"y_true\":val[\"sings\"]})\n",
    "    tokens[\"10-shot\"][\"total\"] += response.usage.total_tokens"
   ]
  },
  {
   "cell_type": "code",
   "execution_count": null,
   "metadata": {},
   "outputs": [],
   "source": [
    "results_10_shot[:2]"
   ]
  },
  {
   "cell_type": "code",
   "execution_count": null,
   "metadata": {},
   "outputs": [],
   "source": [
    "with open(\"../../results/llama7b_10_shot_results.json\", \"w\") as f:\n",
    "    json.dump(results_10_shot, f, indent=2)"
   ]
  },
  {
   "cell_type": "markdown",
   "metadata": {},
   "source": [
    "# External Knowledge"
   ]
  },
  {
   "cell_type": "code",
   "execution_count": null,
   "metadata": {},
   "outputs": [],
   "source": [
    "tuis = get_tui_columns(csv_file_path, columns='both')\n",
    "tuis"
   ]
  },
  {
   "cell_type": "markdown",
   "metadata": {},
   "source": [
    "## Zero-Shot"
   ]
  },
  {
   "cell_type": "code",
   "execution_count": null,
   "metadata": {},
   "outputs": [],
   "source": [
    "results_zero_e = []\n",
    "tokens[\"zero_e\"] = {\"base\": prompt.n_tokens ,\"total\" : 0}\n",
    "\n",
    "for ds, val in tqdm(golds.items()):\n",
    "    prompt_content = prompt.msg.format(disease=ds, tuis=tuis, text=val[\"text\"])\n",
    "    promt = [{\"role\": \"user\", \"content\": prompt_content}]\n",
    "    response = chat_instance.ask_complete(promt, 100)\n",
    "    answ = response.choices[0].message.content\n",
    "    sleep(2)\n",
    "    results_zero_e.append({\"y_pred\":answ, \"y_true\":val[\"sings\"]})\n",
    "    tokens[\"zero_e\"][\"total\"] += response.usage.total_tokens"
   ]
  },
  {
   "cell_type": "code",
   "execution_count": null,
   "metadata": {},
   "outputs": [],
   "source": [
    "results_zero_e[:2]"
   ]
  },
  {
   "cell_type": "code",
   "execution_count": null,
   "metadata": {},
   "outputs": [],
   "source": [
    "with open(\"../../results/llama7b_zero_e_results.json\", \"w\") as f:\n",
    "    json.dump(results_zero_e, f, indent=2)"
   ]
  },
  {
   "cell_type": "markdown",
   "metadata": {},
   "source": [
    "# Few-Shot"
   ]
  },
  {
   "cell_type": "markdown",
   "metadata": {},
   "source": [
    "## 1-shot"
   ]
  },
  {
   "cell_type": "code",
   "execution_count": null,
   "metadata": {},
   "outputs": [],
   "source": [
    "results_1_shot_e = []\n",
    "tokens[\"1_shot_e\"] = {\"base\": prompt.n_tokens ,\"total\" : 0}\n",
    "\n",
    "for ds, val in tqdm(golds.items()):\n",
    "    prompt_content = prompt.msg.format(disease=ds, tuis=tuis, text=val[\"text\"])\n",
    "    promt =  [{\"role\": \"user\", \"content\": texts[0]},{\"role\": \"assistant\", \"content\": symptoms_lists[0]},{\"role\": \"user\", \"content\": prompt_content}]\n",
    "    response = chat_instance.ask_complete(promt, 100)\n",
    "    time.sleep(2)\n",
    "    answ = response.choices[0].message.content\n",
    "    results_1_shot_e.append({\"y_pred\":answ, \"y_true\":val[\"sings\"]})\n",
    "    tokens[\"1_shot_e\"][\"total\"] += response.usage.total_tokens"
   ]
  },
  {
   "cell_type": "code",
   "execution_count": null,
   "metadata": {},
   "outputs": [],
   "source": [
    "results_1_shot_e[-2]"
   ]
  },
  {
   "cell_type": "code",
   "execution_count": null,
   "metadata": {},
   "outputs": [],
   "source": [
    "with open(\"../../results/llama7b_1_shot_e_results.json\", \"w\") as f:\n",
    "    json.dump(results_1_shot_e, f, indent=2)"
   ]
  },
  {
   "cell_type": "markdown",
   "metadata": {},
   "source": [
    "## 3-shot"
   ]
  },
  {
   "cell_type": "code",
   "execution_count": null,
   "metadata": {},
   "outputs": [],
   "source": [
    "results_3_shot_e = []\n",
    "tokens[\"3_shot_e\"] = {\"base\": prompt.n_tokens ,\"total\" : 0}\n",
    "\n",
    "for ds, val in tqdm(golds.items()):\n",
    "    prompt_content = prompt.msg.format(disease=ds, tuis=tuis, text=val[\"text\"])\n",
    "    promt =  [{\"role\": \"user\", \"content\": texts[0]},{\"role\": \"assistant\", \"content\": symptoms_lists[0]}, {\"role\": \"user\", \"content\": texts[1]},{\"role\": \"assistant\", \"content\": symptoms_lists[1]}, {\"role\": \"user\", \"content\": texts[2]},{\"role\": \"assistant\", \"content\": symptoms_lists[2]},{\"role\": \"user\", \"content\": prompt_content}]\n",
    "    response = chat_instance.ask_complete(promt, 100)\n",
    "    time.sleep(2)\n",
    "    answ = response.choices[0].message.content\n",
    "    results_3_shot_e.append({\"y_pred\":answ, \"y_true\":val[\"sings\"]})\n",
    "    tokens[\"3_shot_e\"][\"total\"] += response.usage.total_tokens"
   ]
  },
  {
   "cell_type": "code",
   "execution_count": null,
   "metadata": {},
   "outputs": [],
   "source": [
    "results_3_shot_e[:2]"
   ]
  },
  {
   "cell_type": "code",
   "execution_count": null,
   "metadata": {},
   "outputs": [],
   "source": [
    "with open(\"../../results/llama7b_3_shot_e_results.json\", \"w\") as f:\n",
    "    json.dump(results_3_shot_e, f, indent=2)"
   ]
  },
  {
   "cell_type": "markdown",
   "metadata": {},
   "source": [
    "## 5-shot"
   ]
  },
  {
   "cell_type": "code",
   "execution_count": null,
   "metadata": {},
   "outputs": [],
   "source": [
    "results_5_shot_e = []\n",
    "tokens[\"5_shot_e\"] = {\"base\": prompt.n_tokens ,\"total\" : 0}\n",
    "\n",
    "for ds, val in tqdm(golds.items()):\n",
    "    prompt_content = prompt.msg.format(disease=ds, tuis=tuis, text=val[\"text\"])\n",
    "    promt =  [{\"role\": \"user\", \"content\": texts[0]},{\"role\": \"assistant\", \"content\": symptoms_lists[0]}, {\"role\": \"user\", \"content\": texts[1]},{\"role\": \"assistant\", \"content\": symptoms_lists[1]}, {\"role\": \"user\", \"content\": texts[2]},{\"role\": \"assistant\", \"content\": symptoms_lists[2]},{\"role\": \"user\", \"content\": texts[3]},{\"role\": \"assistant\", \"content\": symptoms_lists[3]},{\"role\": \"user\", \"content\": texts[4]},{\"role\": \"assistant\", \"content\": symptoms_lists[4]},{\"role\": \"user\", \"content\": prompt_content}]\n",
    "    response = chat_instance.ask_complete(promt, 100)\n",
    "    time.sleep(2)\n",
    "    answ = response.choices[0].message.content\n",
    "    results_5_shot_e.append({\"y_pred\":answ, \"y_true\":val[\"sings\"]})\n",
    "    tokens[\"5_shot_e\"][\"total\"] += response.usage.total_tokens"
   ]
  },
  {
   "cell_type": "code",
   "execution_count": null,
   "metadata": {},
   "outputs": [],
   "source": [
    "results_5_shot_e[:2]"
   ]
  },
  {
   "cell_type": "code",
   "execution_count": null,
   "metadata": {},
   "outputs": [],
   "source": [
    "with open(\"../../results/llama7b_5_shot_e_results.json\", \"w\") as f:\n",
    "    json.dump(results_5_shot_e, f, indent=2)"
   ]
  },
  {
   "cell_type": "markdown",
   "metadata": {},
   "source": [
    "## 10-shot"
   ]
  },
  {
   "cell_type": "code",
   "execution_count": null,
   "metadata": {},
   "outputs": [],
   "source": [
    "results_10_shot_e = []\n",
    "tokens[\"10_shot_e\"] = {\"base\": prompt.n_tokens ,\"total\" : 0}\n",
    "\n",
    "for ds, val in tqdm(golds.items()):\n",
    "    prompt_content = prompt.msg.format(disease=ds, tuis=tuis, text=val[\"text\"])\n",
    "    promt =  [{\"role\": \"user\", \"content\": texts[0]},{\"role\": \"assistant\", \"content\": symptoms_lists[0]}, {\"role\": \"user\", \"content\": texts[1]},{\"role\": \"assistant\", \"content\": symptoms_lists[1]}, {\"role\": \"user\", \"content\": texts[2]},{\"role\": \"assistant\", \"content\": symptoms_lists[2]},{\"role\": \"user\", \"content\": texts[3]},{\"role\": \"assistant\", \"content\": symptoms_lists[3]},{\"role\": \"user\", \"content\": texts[4]},{\"role\": \"assistant\", \"content\": symptoms_lists[4]},{\"role\": \"user\", \"content\": texts[5]},{\"role\": \"assistant\", \"content\": symptoms_lists[5]},{\"role\": \"user\", \"content\": texts[6]},{\"role\": \"assistant\", \"content\": symptoms_lists[6]},{\"role\": \"user\", \"content\": texts[7]},{\"role\": \"assistant\", \"content\": symptoms_lists[7]},{\"role\": \"user\", \"content\": texts[8]},{\"role\": \"assistant\", \"content\": symptoms_lists[8]},{\"role\": \"user\", \"content\": texts[9]},{\"role\": \"assistant\", \"content\": symptoms_lists[9]},{\"role\": \"user\", \"content\": prompt_content}]\n",
    "    response = chat_instance.ask_complete(promt, 100)\n",
    "    time.sleep(2)\n",
    "    answ = response.choices[0].message.content\n",
    "    results_10_shot_e.append({\"y_pred\":answ, \"y_true\":val[\"sings\"]})\n",
    "    tokens[\"10_shot_e\"][\"total\"] += response.usage.total_tokens"
   ]
  },
  {
   "cell_type": "code",
   "execution_count": null,
   "metadata": {},
   "outputs": [],
   "source": [
    "results_10_shot_e[:2]"
   ]
  },
  {
   "cell_type": "code",
   "execution_count": null,
   "metadata": {},
   "outputs": [],
   "source": [
    "with open(\"../../results/llama7b_10_shot_e_results.json\", \"w\") as f:\n",
    "    json.dump(results_10_shot_e, f, indent=2)"
   ]
  }
 ],
 "metadata": {
  "kernelspec": {
   "display_name": "Python 3",
   "language": "python",
   "name": "python3"
  },
  "language_info": {
   "codemirror_mode": {
    "name": "ipython",
    "version": 3
   },
   "file_extension": ".py",
   "mimetype": "text/x-python",
   "name": "python",
   "nbconvert_exporter": "python",
   "pygments_lexer": "ipython3",
   "version": "3.11.3"
  }
 },
 "nbformat": 4,
 "nbformat_minor": 2
}
