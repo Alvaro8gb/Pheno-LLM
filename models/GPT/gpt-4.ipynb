{
 "cells": [
  {
   "cell_type": "markdown",
   "metadata": {},
   "source": [
    "# GPT-4 for Diseases Understanding"
   ]
  },
  {
   "cell_type": "code",
   "execution_count": null,
   "metadata": {},
   "outputs": [],
   "source": [
    "import json\n",
    "from costs import GPT4\n",
    "from api_gpt import LargeLanguageModel, PARAMS, eval_pipline\n",
    "from modelss import Message, Sample, SetEvalDocs, Promt\n",
    "import sys\n",
    "sys.path.append(\"../../\")\n",
    "from utils import get_tui_columns, load_samples_csv, load_promts_GPT"
   ]
  },
  {
   "cell_type": "markdown",
   "metadata": {},
   "source": [
    "## Set-up Experiment\n",
    "---"
   ]
  },
  {
   "cell_type": "code",
   "execution_count": null,
   "metadata": {},
   "outputs": [],
   "source": [
    "BASE_PATH = \"../../\"\n",
    "PATH_GOLDS = BASE_PATH + \"standard/golds_v4.json\"\n",
    "PROMT_PATH = BASE_PATH + \"promts/\"\n",
    "PATH_PROMPTS = PROMT_PATH + \"prompts.xlsx\"\n",
    "PATH_EXTERNAL_INFO = PROMT_PATH + \"tuis_desc.csv\"\n",
    "PATH_SAMPLES = PROMT_PATH + \"samples.csv\""
   ]
  },
  {
   "cell_type": "markdown",
   "metadata": {},
   "source": [
    "### Load Golds"
   ]
  },
  {
   "cell_type": "code",
   "execution_count": null,
   "metadata": {},
   "outputs": [],
   "source": [
    "golds = []\n",
    "\n",
    "with open(PATH_GOLDS) as f:\n",
    "    golds = json.load(f)\n",
    "\n",
    "print(len(golds))"
   ]
  },
  {
   "cell_type": "markdown",
   "metadata": {},
   "source": [
    "### Load External Information"
   ]
  },
  {
   "cell_type": "code",
   "execution_count": null,
   "metadata": {},
   "outputs": [],
   "source": [
    "tuis = get_tui_columns(PATH_EXTERNAL_INFO, columns='name')\n",
    "print(tuis)"
   ]
  },
  {
   "cell_type": "markdown",
   "metadata": {},
   "source": [
    "### Load Prompts"
   ]
  },
  {
   "cell_type": "code",
   "execution_count": null,
   "metadata": {},
   "outputs": [],
   "source": [
    "prompts = load_promts_GPT(PATH_PROMPTS)\n",
    "prompts"
   ]
  },
  {
   "cell_type": "code",
   "execution_count": null,
   "metadata": {},
   "outputs": [],
   "source": [
    "prompt = prompts[4]\n",
    "behave = prompt.msg\n",
    "behave_e = behave.copy()\n",
    "behave['content'] = behave['content'].replace('{tuis}', tuis)\n",
    "behave"
   ]
  },
  {
   "cell_type": "code",
   "execution_count": null,
   "metadata": {},
   "outputs": [],
   "source": [
    "texts, golds_samples = load_samples_csv(PATH_SAMPLES)\n",
    "samples = []\n",
    "for text, symptoms in zip(texts, golds_samples):\n",
    "    user_message = Message(role=\"user\", content=text)\n",
    "    assistant_message = Message(role=\"assistant\", content=symptoms)\n",
    "    sample = Sample(user=user_message, agent=assistant_message)\n",
    "    samples.append(sample)"
   ]
  },
  {
   "cell_type": "code",
   "execution_count": null,
   "metadata": {},
   "outputs": [],
   "source": [
    "samples"
   ]
  },
  {
   "cell_type": "markdown",
   "metadata": {},
   "source": [
    "### Load Model\n"
   ]
  },
  {
   "cell_type": "code",
   "execution_count": null,
   "metadata": {},
   "outputs": [],
   "source": [
    "llms = [LargeLanguageModel(model=GPT4, **PARAMS)]"
   ]
  },
  {
   "cell_type": "markdown",
   "metadata": {},
   "source": [
    "## Create Eval Sets"
   ]
  },
  {
   "cell_type": "code",
   "execution_count": null,
   "metadata": {},
   "outputs": [],
   "source": [
    "sets_eval = [SetEvalDocs({\"name\": \"results_diseases_gpt4\" , \"golds\": golds})]"
   ]
  },
  {
   "cell_type": "code",
   "execution_count": null,
   "metadata": {},
   "outputs": [],
   "source": [
    "promts2test = [Promt(behave=behave, name=\"Zero Shot\"), Promt(behave=behave, name=\"1 Few-shot\", samples=samples[:1]), Promt(behave=behave, name=\"3 Few-shot\", samples=samples[:3]), Promt(behave=behave, name=\"5 Few-shot\", samples=samples[:5]), Promt(behave=behave, name=\"10 Few-shot\", samples=samples[:10])]\n",
    "promts2test"
   ]
  },
  {
   "cell_type": "code",
   "execution_count": null,
   "metadata": {},
   "outputs": [],
   "source": [
    "results = eval_pipline(llms, sets_eval, promts2test)"
   ]
  },
  {
   "cell_type": "code",
   "execution_count": null,
   "metadata": {},
   "outputs": [],
   "source": [
    "results"
   ]
  },
  {
   "cell_type": "markdown",
   "metadata": {},
   "source": [
    "# External Knowledge"
   ]
  },
  {
   "cell_type": "code",
   "execution_count": null,
   "metadata": {},
   "outputs": [],
   "source": [
    "tuis = get_tui_columns(PATH_EXTERNAL_INFO, columns='both')\n",
    "print(tuis)"
   ]
  },
  {
   "cell_type": "code",
   "execution_count": null,
   "metadata": {},
   "outputs": [],
   "source": [
    "behave_e['content'] = behave_e['content'].replace('{tuis}', tuis)\n",
    "behave_e"
   ]
  },
  {
   "cell_type": "code",
   "execution_count": null,
   "metadata": {},
   "outputs": [],
   "source": [
    "sets_eval_external = [SetEvalDocs({\"name\": \"results_diseases_gpt4\" , \"golds\": golds})]"
   ]
  },
  {
   "cell_type": "code",
   "execution_count": null,
   "metadata": {},
   "outputs": [],
   "source": [
    "promts2test_e = [Promt(behave=behave_e, name=\"Zero Shot\"), Promt(behave=behave_e, name=\"1 Few-shot\", samples=samples[:1]), Promt(behave=behave_e, name=\"3 Few-shot\", samples=samples[:3]), Promt(behave=behave_e, name=\"5 Few-shot\", samples=samples[:5]), Promt(behave=behave_e, name=\"10 Few-shot\", samples=samples[:10])]\n",
    "promts2test_e"
   ]
  },
  {
   "cell_type": "code",
   "execution_count": null,
   "metadata": {},
   "outputs": [],
   "source": [
    "results_e = eval_pipline(llms, sets_eval_external, promts2test_e)"
   ]
  },
  {
   "cell_type": "code",
   "execution_count": null,
   "metadata": {},
   "outputs": [],
   "source": [
    "results_e"
   ]
  },
  {
   "cell_type": "code",
   "execution_count": null,
   "metadata": {},
   "outputs": [],
   "source": [
    "from utils import dump_results\n",
    "path = \"../../results/gpt4_external_results\" + \".json\"\n",
    "dump_results(results_e, path)"
   ]
  }
 ],
 "metadata": {
  "kernelspec": {
   "display_name": "Python 3",
   "language": "python",
   "name": "python3"
  },
  "language_info": {
   "codemirror_mode": {
    "name": "ipython",
    "version": 3
   },
   "file_extension": ".py",
   "mimetype": "text/x-python",
   "name": "python",
   "nbconvert_exporter": "python",
   "pygments_lexer": "ipython3",
   "version": "3.11.3"
  }
 },
 "nbformat": 4,
 "nbformat_minor": 2
}
