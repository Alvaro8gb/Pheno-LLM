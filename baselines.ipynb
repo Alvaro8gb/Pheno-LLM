{
 "cells": [
  {
   "cell_type": "code",
   "execution_count": null,
   "metadata": {},
   "outputs": [],
   "source": [
    "import os\n",
    "from dotenv import load_dotenv\n",
    "\n",
    "load_dotenv()\n",
    "\n",
    "UMLS_API_KEY = os.getenv(\"UMLS_API_KEY\")\n",
    "PATH = \"./standard/golds_v4.json\"\n",
    "PATH_BASELINES = \"results/baselines/\""
   ]
  },
  {
   "cell_type": "code",
   "execution_count": null,
   "metadata": {},
   "outputs": [],
   "source": [
    "from utils import dump_results, load_results, load_cache, dump_cache\n",
    "from tqdm import tqdm "
   ]
  },
  {
   "cell_type": "markdown",
   "metadata": {},
   "source": [
    "# Load TUIS"
   ]
  },
  {
   "cell_type": "code",
   "execution_count": null,
   "metadata": {},
   "outputs": [],
   "source": [
    "import pandas as pd"
   ]
  },
  {
   "cell_type": "code",
   "execution_count": null,
   "metadata": {},
   "outputs": [],
   "source": [
    "PATH_TUIS = \"promts/tuis_desc.csv\""
   ]
  },
  {
   "cell_type": "code",
   "execution_count": null,
   "metadata": {},
   "outputs": [],
   "source": [
    "tuis_df = pd.read_csv(PATH_TUIS)"
   ]
  },
  {
   "cell_type": "code",
   "execution_count": null,
   "metadata": {},
   "outputs": [],
   "source": [
    "TUIS = set(tuis_df[\"TUI\"].to_list())\n",
    "TUIS_LABELS = tuis_df[\"Name\"].to_list()"
   ]
  },
  {
   "cell_type": "markdown",
   "metadata": {},
   "source": [
    "## Load Cache"
   ]
  },
  {
   "cell_type": "code",
   "execution_count": null,
   "metadata": {},
   "outputs": [],
   "source": [
    "PATH_CACHE = \"../my-wiki-annot/cache_cuis_tuis.pkl\""
   ]
  },
  {
   "cell_type": "code",
   "execution_count": null,
   "metadata": {},
   "outputs": [],
   "source": [
    "CACHE_CUIS = load_cache(PATH_CACHE)\n",
    "print(len(CACHE_CUIS))"
   ]
  },
  {
   "cell_type": "markdown",
   "metadata": {},
   "source": [
    "# Load Golds"
   ]
  },
  {
   "cell_type": "code",
   "execution_count": null,
   "metadata": {},
   "outputs": [],
   "source": [
    "from utils import load_golds"
   ]
  },
  {
   "cell_type": "code",
   "execution_count": null,
   "metadata": {},
   "outputs": [],
   "source": [
    "golds = load_golds(PATH)"
   ]
  },
  {
   "cell_type": "code",
   "execution_count": null,
   "metadata": {},
   "outputs": [],
   "source": [
    "import requests\n",
    "\n",
    "def parse_tui(semanticResult):\n",
    "    #print(semanticResult)\n",
    "    return semanticResult['uri'].split(\"/\")[-1]\n",
    "    \n",
    "def cui2tui(cui):\n",
    "    result = None\n",
    "    apikey = UMLS_API_KEY\n",
    "    version = 'current'\n",
    "    uri = \"https://uts-ws.nlm.nih.gov\"        \n",
    "    path = '/content/'+version+'/CUI/'+cui\n",
    " \n",
    "    try:\n",
    "        query = {'apiKey':apikey}\n",
    "        r = requests.get(uri+path, params=query)\n",
    "        r.raise_for_status()\n",
    "        r.encoding = 'utf-8'\n",
    "        outputs  = r.json()\n",
    "        items = outputs['result']\n",
    "        #print(items)\n",
    "        result = items['semanticTypes'][0]['name']\n",
    "        result = parse_tui(items['semanticTypes'][0])\n",
    " \n",
    "    except Exception as except_error:\n",
    "        print(except_error)\n",
    "    return result"
   ]
  },
  {
   "cell_type": "markdown",
   "metadata": {},
   "source": [
    "# Scispacy"
   ]
  },
  {
   "cell_type": "markdown",
   "metadata": {},
   "source": [
    "### Models \n",
    "\n",
    "```\n",
    "pip install https://s3-us-west-2.amazonaws.com/ai2-s2-scispacy/releases/v0.5.4/en_core_sci_sm-0.5.4.tar.gz\n",
    "pip install https://s3-us-west-2.amazonaws.com/ai2-s2-scispacy/releases/v0.5.4/en_core_sci_md-0.5.4.tar.gz\n",
    "pip install https://s3-us-west-2.amazonaws.com/ai2-s2-scispacy/releases/v0.5.4/en_core_sci_lg-0.5.4.tar.gz\n",
    "\n",
    "pip install https://s3-us-west-2.amazonaws.com/ai2-s2-scispacy/releases/v0.5.4/en_core_sci_scibert-0.5.4.tar.gz\n",
    "\n",
    "```"
   ]
  },
  {
   "cell_type": "code",
   "execution_count": null,
   "metadata": {},
   "outputs": [],
   "source": [
    "import spacy\n",
    "import scispacy\n",
    "from scispacy.linking import EntityLinker"
   ]
  },
  {
   "cell_type": "code",
   "execution_count": null,
   "metadata": {},
   "outputs": [],
   "source": [
    "nlp_small = spacy.load(\"en_core_sci_sm\")\n",
    "nlp_small.add_pipe(\"scispacy_linker\", config={\"resolve_abbreviations\": True, \"linker_name\": \"umls\"})\n",
    "nlp_small.meta[\"pipeline\"]"
   ]
  },
  {
   "cell_type": "code",
   "execution_count": null,
   "metadata": {},
   "outputs": [],
   "source": [
    "nlp_md = spacy.load(\"en_core_sci_md\")\n",
    "nlp_md.add_pipe(\"scispacy_linker\", config={\"resolve_abbreviations\": True, \"linker_name\": \"umls\"})\n",
    "nlp_md.meta[\"pipeline\"]"
   ]
  },
  {
   "cell_type": "code",
   "execution_count": null,
   "metadata": {},
   "outputs": [],
   "source": [
    "nlp_lg = spacy.load(\"en_core_sci_lg\")\n",
    "nlp_lg.add_pipe(\"scispacy_linker\", config={\"resolve_abbreviations\": True, \"linker_name\": \"umls\"})\n",
    "nlp_lg.meta[\"pipeline\"]"
   ]
  },
  {
   "cell_type": "code",
   "execution_count": null,
   "metadata": {},
   "outputs": [],
   "source": [
    "nlp_bert = spacy.load(\"en_core_sci_scibert\")\n",
    "nlp_bert.add_pipe(\"scispacy_linker\", config={\"resolve_abbreviations\": True, \"linker_name\": \"umls\"})\n",
    "nlp_bert.meta[\"pipeline\"]"
   ]
  },
  {
   "cell_type": "markdown",
   "metadata": {},
   "source": [
    "### Sample"
   ]
  },
  {
   "cell_type": "code",
   "execution_count": null,
   "metadata": {},
   "outputs": [],
   "source": [
    "text = \"\"\"\n",
    "Subconjunctival bleeding initially appears bright red underneath the transparent bulbar conjunctiva. Later, the bleeding may spread \n",
    "and become green or yellow as the hemoglobin is metabolized. It usually disappears within two weeks. The affected eye may feel dry, \n",
    "rough, or scratchy, but the condition is not usually painful.\"\"\""
   ]
  },
  {
   "cell_type": "code",
   "execution_count": null,
   "metadata": {},
   "outputs": [],
   "source": [
    "text = \"Most cases of renal artery stenosis are asymptomatic, and the main problem is high blood pressure that cannot be controlled with medication\""
   ]
  },
  {
   "cell_type": "code",
   "execution_count": null,
   "metadata": {},
   "outputs": [],
   "source": [
    "text = \"Madarosis is not a critical or severe condition. The main symptom and sign of madarosis is the loss of hair from the eyelids, eyebrows, or eyelashes.n\""
   ]
  },
  {
   "cell_type": "code",
   "execution_count": null,
   "metadata": {},
   "outputs": [],
   "source": [
    "print(len(text)) "
   ]
  },
  {
   "cell_type": "code",
   "execution_count": null,
   "metadata": {},
   "outputs": [],
   "source": [
    "doc = nlp_small(text)"
   ]
  },
  {
   "cell_type": "code",
   "execution_count": null,
   "metadata": {},
   "outputs": [],
   "source": [
    "def get_ents(doc):\n",
    "    ents = []\n",
    "    for ent in doc.ents: \n",
    "        #print(ent.text, ent.start_char, ent.end_char, ent.label_, \"\\n\\n\")\n",
    "\n",
    "        if len(ent._.kb_ents) > 0:\n",
    "            cui = str(ent._.kb_ents[0][0])\n",
    "            #print(cui)\n",
    "\n",
    "            if cui not in CACHE_CUIS:\n",
    "                CACHE_CUIS[cui] = cui2tui(cui)\n",
    "\n",
    "            tui = CACHE_CUIS[cui]\n",
    "\n",
    "            if tui in TUIS:\n",
    "                ents.append(ent.text.lower())\n",
    "    return ents            "
   ]
  },
  {
   "cell_type": "code",
   "execution_count": null,
   "metadata": {},
   "outputs": [],
   "source": [
    "cui2tui('C0042776')"
   ]
  },
  {
   "cell_type": "code",
   "execution_count": null,
   "metadata": {},
   "outputs": [],
   "source": [
    "get_ents(doc)"
   ]
  },
  {
   "cell_type": "markdown",
   "metadata": {},
   "source": [
    "## Scispacy small"
   ]
  },
  {
   "cell_type": "code",
   "execution_count": null,
   "metadata": {},
   "outputs": [],
   "source": [
    "results_scipacy_sm = []\n",
    "for ds, val in tqdm(golds.items()):\n",
    "    pred_doc = nlp_small(val[\"text\"])\n",
    "    pred_ents = get_ents(pred_doc)\n",
    "    results_scipacy_sm.append({\"text\": val[\"text\"], \"y_pred\":pred_ents, \"y_true\":val[\"sings\"]})"
   ]
  },
  {
   "cell_type": "code",
   "execution_count": null,
   "metadata": {},
   "outputs": [],
   "source": [
    "dump_results(results_scipacy_sm, PATH_BASELINES + \"sci-small.json\")"
   ]
  },
  {
   "cell_type": "markdown",
   "metadata": {},
   "source": [
    "## Scispacy medium"
   ]
  },
  {
   "cell_type": "code",
   "execution_count": null,
   "metadata": {},
   "outputs": [],
   "source": [
    "results_scipacy_md = []\n",
    "for ds, val in tqdm(golds.items()):\n",
    "    pred_doc = nlp_md(val[\"text\"])\n",
    "    pred_ents = get_ents(pred_doc)\n",
    "    results_scipacy_md.append({\"text\": val[\"text\"], \"y_pred\":pred_ents, \"y_true\":val[\"sings\"]})"
   ]
  },
  {
   "cell_type": "code",
   "execution_count": null,
   "metadata": {},
   "outputs": [],
   "source": [
    "dump_results(results_scipacy_md, PATH_BASELINES + \"sci-md.json\")"
   ]
  },
  {
   "cell_type": "markdown",
   "metadata": {},
   "source": [
    "## Scispacy long"
   ]
  },
  {
   "cell_type": "code",
   "execution_count": null,
   "metadata": {},
   "outputs": [],
   "source": [
    "results_scipacy_lg = []\n",
    "for ds, val in tqdm(golds.items()):\n",
    "    pred_doc = nlp_lg(val[\"text\"])\n",
    "    pred_ents = get_ents(pred_doc)\n",
    "    results_scipacy_lg.append({\"text\": val[\"text\"], \"y_pred\":pred_ents, \"y_true\":val[\"sings\"]})"
   ]
  },
  {
   "cell_type": "code",
   "execution_count": null,
   "metadata": {},
   "outputs": [],
   "source": [
    "dump_results(results_scipacy_lg, PATH_BASELINES + \"sci-lg.json\")"
   ]
  },
  {
   "cell_type": "markdown",
   "metadata": {},
   "source": [
    "## Scibert"
   ]
  },
  {
   "cell_type": "code",
   "execution_count": null,
   "metadata": {},
   "outputs": [],
   "source": [
    "results_scipacy_bert = []\n",
    "for ds, val in tqdm(golds.items()):\n",
    "    pred_doc = nlp_bert(val[\"text\"])\n",
    "    pred_ents = get_ents(pred_doc)\n",
    "    results_scipacy_bert.append({\"text\": val[\"text\"], \"y_pred\":pred_ents, \"y_true\":val[\"sings\"]})"
   ]
  },
  {
   "cell_type": "code",
   "execution_count": null,
   "metadata": {},
   "outputs": [],
   "source": [
    "dump_results(results_scipacy_bert, PATH_BASELINES + \"sci-bert.json\")"
   ]
  },
  {
   "cell_type": "markdown",
   "metadata": {},
   "source": [
    "# BioFalcon"
   ]
  },
  {
   "cell_type": "code",
   "execution_count": null,
   "metadata": {},
   "outputs": [],
   "source": [
    "import requests\n",
    "\n",
    "headers = {'content-type': 'application/json', 'Accept-Charset': 'UTF-8'}\n",
    "\n",
    "def biofalcon(text):\n",
    "    url = 'https://labs.tib.eu/sdm/biofalcon/api?mode=long&k=1'\n",
    "    payload = '{\"text\":\"'+text+'\"}'\n",
    "    r = requests.post(url, data=payload.encode('utf-8'), headers=headers)\n",
    "\n",
    "    if r.status_code == 200:\n",
    "        response=r.json()\n",
    "\n",
    "        #print(response)\n",
    "\n",
    "        if len(response['entities_UMLS']) > 0:\n",
    "            return response['entities_UMLS']\n",
    "\n",
    "        return []\n",
    "    else:\n",
    "        print(str(r))       \n",
    "        return []"
   ]
  },
  {
   "cell_type": "code",
   "execution_count": null,
   "metadata": {},
   "outputs": [],
   "source": [
    "results = biofalcon(text.replace(\"\\n\", \" \"))\n",
    "results"
   ]
  },
  {
   "cell_type": "code",
   "execution_count": null,
   "metadata": {},
   "outputs": [],
   "source": [
    "def get_ents_biofalcon(results):\n",
    "    ents = []\n",
    "    for ent, cuis in results: \n",
    "        #print( ent, cuis)\n",
    "\n",
    "        if len(cuis) > 0:\n",
    "            cui = str(cuis[0])\n",
    "\n",
    "            if cui not in CACHE_CUIS:\n",
    "                CACHE_CUIS[cui] = cui2tui(cui)\n",
    "\n",
    "            tui = CACHE_CUIS[cui]\n",
    "\n",
    "            if tui in TUIS:\n",
    "                ents.append(ent.lower())\n",
    "    return ents    "
   ]
  },
  {
   "cell_type": "code",
   "execution_count": null,
   "metadata": {},
   "outputs": [],
   "source": [
    "get_ents_biofalcon(results)"
   ]
  },
  {
   "cell_type": "code",
   "execution_count": null,
   "metadata": {},
   "outputs": [],
   "source": [
    "results_biofalcon = []\n",
    "for ds, val in tqdm(golds.items()):\n",
    "    pred_doc = biofalcon(val[\"text\"].replace(\"\\n\", \" \"))\n",
    "    pred_ents = get_ents_biofalcon(pred_doc)\n",
    "    results_biofalcon.append({\"text\": val[\"text\"], \"y_pred\":pred_ents, \"y_true\":val[\"sings\"]})"
   ]
  },
  {
   "cell_type": "code",
   "execution_count": null,
   "metadata": {},
   "outputs": [],
   "source": [
    "results_biofalcon[-1]"
   ]
  },
  {
   "cell_type": "code",
   "execution_count": null,
   "metadata": {},
   "outputs": [],
   "source": [
    "dump_results(results_biofalcon, PATH_BASELINES + \"biofalcon.json\")"
   ]
  },
  {
   "cell_type": "markdown",
   "metadata": {},
   "source": [
    "### Dump cache tuis"
   ]
  },
  {
   "cell_type": "code",
   "execution_count": null,
   "metadata": {},
   "outputs": [],
   "source": [
    "dump_cache(CACHE_CUIS, PATH_CACHE)"
   ]
  },
  {
   "cell_type": "markdown",
   "metadata": {},
   "source": [
    "# GliNER"
   ]
  },
  {
   "cell_type": "markdown",
   "metadata": {},
   "source": [
    "\n",
    "### Available Models on Hugging Face\n",
    "- [x] [GLiNER-Base](https://huggingface.co/urchade/gliner_base) (CC BY NC 4.0)\n",
    "- [x] [GLiNER-Multi](https://huggingface.co/urchade/gliner_multi) (CC BY NC 4.0)\n",
    "- [x] [GLiNER-small](https://huggingface.co/urchade/gliner_small) (CC BY NC 4.0)\n",
    "- [x] [GLiNER-small-v2](https://huggingface.co/urchade/gliner_smallv2) (Apache)\n",
    "- [x] [GLiNER-medium](https://huggingface.co/urchade/gliner_medium) (CC BY NC 4.0)\n",
    "- [x] [GLiNER-medium-v2](https://huggingface.co/urchade/gliner_mediumv2) (Apache)\n",
    "- [x] [GLiNER-large](https://huggingface.co/urchade/gliner_large) (CC BY NC 4.0)\n",
    "- [x] [GLiNER-large-v2](https://huggingface.co/urchade/gliner_largev2) (Apache)"
   ]
  },
  {
   "cell_type": "code",
   "execution_count": null,
   "metadata": {},
   "outputs": [],
   "source": [
    "!pip install gliner"
   ]
  },
  {
   "cell_type": "code",
   "execution_count": null,
   "metadata": {},
   "outputs": [],
   "source": [
    "from gliner import GLiNER"
   ]
  },
  {
   "cell_type": "code",
   "execution_count": null,
   "metadata": {},
   "outputs": [],
   "source": [
    "GLiNER_base = GLiNER.from_pretrained(\"urchade/gliner_base\")"
   ]
  },
  {
   "cell_type": "code",
   "execution_count": null,
   "metadata": {},
   "outputs": [],
   "source": [
    "def get_ents_gliNER(model, labels,  text:str):\n",
    "   \n",
    "    entities = model.predict_entities(text, labels, threshold=0.5)\n",
    "    ents = [ entity[\"text\"].lower().strip() for entity in entities]\n",
    "\n",
    "    return ents\n",
    "\n",
    "def eval_gliNER(model, labels, golds):\n",
    "    results = []\n",
    "    for ds, val in tqdm(golds.items()):\n",
    "        pred = get_ents_gliNER(model, labels, val[\"text\"])\n",
    "        results.append({\"y_pred\":pred, \"y_true\":val[\"sings\"]})\n",
    "\n",
    "    return results"
   ]
  },
  {
   "cell_type": "code",
   "execution_count": null,
   "metadata": {},
   "outputs": [],
   "source": [
    "TUIS_LABELS"
   ]
  },
  {
   "cell_type": "code",
   "execution_count": null,
   "metadata": {},
   "outputs": [],
   "source": [
    "text = \"\"\"\n",
    "The symptoms of cytomegalovirus retinitis have it usually starting in one eye (and also have the possibility of retinal detachment), presenting as:\n",
    "Blurred vision\n",
    "Blind spots\n",
    "Specks in your vision \"\"\"\n",
    "\n",
    "#labels = [\"Sign and Symptom\"]\n",
    "\n",
    "entities = GLiNER_base.predict_entities(text=text, labels=TUIS_LABELS, threshold=0.5)\n",
    "\n",
    "for entity in entities:\n",
    "    print(entity[\"text\"], \"=>\", entity[\"label\"])"
   ]
  },
  {
   "cell_type": "markdown",
   "metadata": {},
   "source": [
    "# Gli NER Base"
   ]
  },
  {
   "cell_type": "code",
   "execution_count": null,
   "metadata": {},
   "outputs": [],
   "source": [
    "results_base = eval_gliNER(GLiNER_base, TUIS_LABELS, golds)"
   ]
  },
  {
   "cell_type": "code",
   "execution_count": null,
   "metadata": {},
   "outputs": [],
   "source": [
    "dump_results(results_base, PATH_BASELINES + \"GLiNER_base.json\")"
   ]
  },
  {
   "cell_type": "markdown",
   "metadata": {},
   "source": [
    "# Gli NER Medium"
   ]
  },
  {
   "cell_type": "code",
   "execution_count": null,
   "metadata": {},
   "outputs": [],
   "source": [
    "GLiNER_medium = GLiNER.from_pretrained(\"urchade/gliner_medium\")"
   ]
  },
  {
   "cell_type": "code",
   "execution_count": null,
   "metadata": {},
   "outputs": [],
   "source": [
    "results_med = eval_gliNER(GLiNER_medium, TUIS_LABELS, golds)"
   ]
  },
  {
   "cell_type": "code",
   "execution_count": null,
   "metadata": {},
   "outputs": [],
   "source": [
    "dump_results(results_med, PATH_BASELINES + \"GLiNER_medium.json\")"
   ]
  },
  {
   "cell_type": "code",
   "execution_count": null,
   "metadata": {},
   "outputs": [],
   "source": [
    "GLiNER_medium_v2 = GLiNER.from_pretrained(\"urchade/gliner_mediumv2\")"
   ]
  },
  {
   "cell_type": "code",
   "execution_count": null,
   "metadata": {},
   "outputs": [],
   "source": [
    "results_md2 = eval_gliNER(GLiNER_medium_v2, TUIS_LABELS, golds)"
   ]
  },
  {
   "cell_type": "code",
   "execution_count": null,
   "metadata": {},
   "outputs": [],
   "source": [
    "dump_results(results_md2, PATH_BASELINES + \"GLiNER_medium_v2.json\")"
   ]
  },
  {
   "cell_type": "markdown",
   "metadata": {},
   "source": [
    "# Gli NER large"
   ]
  },
  {
   "cell_type": "code",
   "execution_count": null,
   "metadata": {},
   "outputs": [],
   "source": [
    "GLiNER_large = GLiNER.from_pretrained(\"urchade/gliner_large\")"
   ]
  },
  {
   "cell_type": "code",
   "execution_count": null,
   "metadata": {},
   "outputs": [],
   "source": [
    "results_large = eval_gliNER(GLiNER_medium_v2, TUIS_LABELS, golds)"
   ]
  },
  {
   "cell_type": "code",
   "execution_count": null,
   "metadata": {},
   "outputs": [],
   "source": [
    "dump_results(results_large, PATH_BASELINES + \"GLiNER_large.json\")"
   ]
  },
  {
   "cell_type": "markdown",
   "metadata": {},
   "source": [
    "# Eval"
   ]
  },
  {
   "cell_type": "code",
   "execution_count": null,
   "metadata": {},
   "outputs": [],
   "source": [
    "from metrics import eval_results"
   ]
  },
  {
   "cell_type": "code",
   "execution_count": null,
   "metadata": {},
   "outputs": [],
   "source": [
    "files_baselines = [\"biofalcon\", \"metamap\", \"sci-small\", \"sci-md\", \"sci-lg\", \"sci-bert\", \"GLiNER_base\", \"GLiNER_medium\", \"GLiNER_medium_v2\", \"GLiNER_large\"]"
   ]
  },
  {
   "cell_type": "code",
   "execution_count": null,
   "metadata": {},
   "outputs": [],
   "source": [
    "for f in files_baselines:\n",
    "    print(f)\n",
    "    data = load_results(PATH_BASELINES + f + \".json\")\n",
    "\n",
    "    results = [ ( set(e[\"y_true\"]), set(e[\"y_pred\"])) for e in data]\n",
    "\n",
    "    bad = eval_results(results)"
   ]
  }
 ],
 "metadata": {
  "kernelspec": {
   "display_name": ".venv",
   "language": "python",
   "name": "python3"
  },
  "language_info": {
   "codemirror_mode": {
    "name": "ipython",
    "version": 3
   },
   "file_extension": ".py",
   "mimetype": "text/x-python",
   "name": "python",
   "nbconvert_exporter": "python",
   "pygments_lexer": "ipython3",
   "version": "3.9.19"
  }
 },
 "nbformat": 4,
 "nbformat_minor": 2
}
