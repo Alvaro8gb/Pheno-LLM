{
 "cells": [
  {
   "cell_type": "markdown",
   "metadata": {},
   "source": [
    "# Eval\n",
    "\n",
    "Sings and sintons can not be duplicated => sets\n",
    "\n",
    "\n",
    "- TP: A text have the term, and the LLM take it\n",
    "- FP:  A text dont have the term, but LLM take it.\n",
    "- FN: A text have the term, and the LLM not take it.\n",
    "- TN: A text dont have the term, and the LLM not take it."
   ]
  },
  {
   "cell_type": "code",
   "execution_count": null,
   "metadata": {},
   "outputs": [],
   "source": [
    "from eval import decode\n",
    "from metrics import eval_results\n",
    "from utils import load_results"
   ]
  },
  {
   "cell_type": "code",
   "execution_count": null,
   "metadata": {},
   "outputs": [],
   "source": [
    "PATH_BASE = \"results/prompt/\"\n",
    "PATH_BASE_GPT = \"results/GPT/\""
   ]
  },
  {
   "cell_type": "code",
   "execution_count": null,
   "metadata": {},
   "outputs": [],
   "source": [
    "files_llms = [\"BioMistral_zero_results\", \"Bio_Mistral_1_shot_results\", \"Bio_Mistral_3_shot_results\", \"Bio_Mistral_5_shot_results\", \"Bio_Mistral_10_shot_results\", \"Bio_Mistral_zero_e_results\", \"Bio_Mistral_1_shot_e_results\", \"Bio_Mistral_3_shot_e_results\", \"Bio_Mistral_5_shot_e_results\", \"Bio_Mistral_10_shot_e_results\"]"
   ]
  },
  {
   "cell_type": "code",
   "execution_count": null,
   "metadata": {},
   "outputs": [],
   "source": [
    "files_llms = [\"Mistralai_zero_results\", \"Mistralai_1_shot_results\", \"Mistralai_3_shot_results\", \"Mistralai_5_shot_results\", \"Mistralai_10_shot_results\", \"Mistralai_zero_e_results\", \"Mistralai_1_shot_e_results\", \"Mistralai_3_shot_e_results\", \"Mistralai_5_shot_e_results\", \"Mistralai_10_shot_e_results\"]"
   ]
  },
  {
   "cell_type": "code",
   "execution_count": null,
   "metadata": {},
   "outputs": [],
   "source": [
    "files_llms = [\"llama7b_zero_results\", \"llama7b_1_shot_results\", \"llama7b_3_shot_results\", \"llama7b_5_shot_results\", \"llama7b_10_shot_results\", \"llama7b_zero_e_results\", \"llama7b_1_shot_e_results\", \"llama7b_3_shot_e_results\", \"llama7b_5_shot_e_results\", \"llama7b_10_shot_e_results\"]"
   ]
  },
  {
   "cell_type": "code",
   "execution_count": null,
   "metadata": {},
   "outputs": [],
   "source": [
    "for f in files_llms:\n",
    "    print(f)\n",
    "    data = load_results(PATH_BASE + f + \".json\" )\n",
    "    results = [ ( set(e[\"y_true\"]), set(decode(e[\"y_pred\"])) ) for e in data]\n",
    "\n",
    "    bad = eval_results( results)"
   ]
  },
  {
   "cell_type": "markdown",
   "metadata": {},
   "source": [
    "# GPT Results"
   ]
  },
  {
   "cell_type": "code",
   "execution_count": null,
   "metadata": {},
   "outputs": [],
   "source": [
    "files_llms = [\"gpt35_zero_shot\", \"gpt35_1_shot\", \"gpt35_3_shot\", \"gpt35_5_shot\", \"gpt35_10_shot\", \"gpt35_zero_shot_e\", \"gpt35_1_shot_e\", \"gpt35_3_shot_e\", \"gpt35_5_shot_e\", \"gpt35_10_shot_e\"]"
   ]
  },
  {
   "cell_type": "code",
   "execution_count": null,
   "metadata": {},
   "outputs": [],
   "source": [
    "files_llms = [\"gpt4_zero_shot\", \"gpt4_1_shot\", \"gpt4_3_shot\", \"gpt4_5_shot\", \"gpt4_10_shot\", \"gpt4_zero_shot_e\", \"gpt4_1_shot_e\", \"gpt4_3_shot_e\", \"gpt4_5_shot_e\", \"gpt4_10_shot_e\"]"
   ]
  },
  {
   "cell_type": "code",
   "execution_count": null,
   "metadata": {},
   "outputs": [],
   "source": [
    "for f in files_llms:\n",
    "    print(f)\n",
    "    data = load_results(PATH_BASE_GPT + f + \".json\" )\n",
    "    results = [ ( set(e[\"y_true\"]), set(decode(e[\"y_pred\"])) ) for e in data]\n",
    "\n",
    "    bad = eval_results( results)"
   ]
  }
 ],
 "metadata": {
  "kernelspec": {
   "display_name": ".venv",
   "language": "python",
   "name": "python3"
  },
  "language_info": {
   "codemirror_mode": {
    "name": "ipython",
    "version": 3
   },
   "file_extension": ".py",
   "mimetype": "text/x-python",
   "name": "python",
   "nbconvert_exporter": "python",
   "pygments_lexer": "ipython3",
   "version": "3.11.3"
  }
 },
 "nbformat": 4,
 "nbformat_minor": 2
}
